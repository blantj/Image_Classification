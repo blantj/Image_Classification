{
 "cells": [
  {
   "cell_type": "code",
   "execution_count": 33,
   "metadata": {},
   "outputs": [],
   "source": [
    "import time\n",
    "import matplotlib.pyplot as plt\n",
    "import scipy\n",
    "import numpy as np\n",
    "from PIL import Image\n",
    "from scipy import ndimage\n",
    "from keras.preprocessing.image import ImageDataGenerator, array_to_img, img_to_array, load_img\n",
    "\n",
    "# Notebook code based on learn.co Convolutional Neural Networks Code Along"
   ]
  },
  {
   "cell_type": "markdown",
   "metadata": {},
   "source": [
    "# Pre-Processing"
   ]
  },
  {
   "cell_type": "code",
   "execution_count": 34,
   "metadata": {},
   "outputs": [],
   "source": [
    "train_folder = 'data/seg_train/seg_train'\n",
    "test_folder = 'data/seg_test/seg_test'\n",
    "validation_folder = 'data/seg_pred/seg_pred'\n",
    "im_classes = ['buildings','forest', 'glacier', 'mountain', 'sea', 'street']"
   ]
  },
  {
   "cell_type": "code",
   "execution_count": 35,
   "metadata": {},
   "outputs": [],
   "source": [
    "train_imgs = []\n",
    "test_imgs = []\n",
    "validation_imgs = []\n",
    "\n",
    "for im_class in im_classes:\n",
    "    train_imgs.extend([file for file in os.listdir(train_folder+'/'+im_class) if file.endswith('.jpg')])\n",
    "    test_imgs.extend([file for file in os.listdir(test_folder+'/'+im_class) if file.endswith('.jpg')])\n",
    "    \n",
    "validation_imgs = [file for file in os.listdir(validation_folder) if file.endswith('.jpg')]\n",
    "    \n",
    "train_batch_size = len(train_imgs)\n",
    "test_batch_size = len(test_imgs)\n",
    "validation_batch_size = len(validation_imgs)"
   ]
  },
  {
   "cell_type": "code",
   "execution_count": 36,
   "metadata": {},
   "outputs": [
    {
     "name": "stdout",
     "output_type": "stream",
     "text": [
      "14034\n",
      "3000\n",
      "7301\n"
     ]
    }
   ],
   "source": [
    "print(train_batch_size)\n",
    "print(test_batch_size)\n",
    "print(validation_batch_size)"
   ]
  },
  {
   "cell_type": "code",
   "execution_count": 71,
   "metadata": {},
   "outputs": [
    {
     "name": "stdout",
     "output_type": "stream",
     "text": [
      "Found 3000 images belonging to 6 classes.\n",
      "Found 14034 images belonging to 6 classes.\n"
     ]
    }
   ],
   "source": [
    "# get all the data in the directory split/test (180 images), and reshape them\n",
    "test_generator = ImageDataGenerator().flow_from_directory(\n",
    "        test_folder, \n",
    "        target_size=(64, 64), batch_size = test_batch_size) \n",
    "\n",
    "# get all the data in the directory split/validation (200 images), and reshape them\n",
    "#val_generator = ImageDataGenerator(rescale=1./255).flow_from_directory(\n",
    "#        validation_folder, \n",
    "#        target_size=(64, 64), batch_size = validation_batch_size)\n",
    "\n",
    "# get all the data in the directory split/train (542 images), and reshape them\n",
    "train_generator = ImageDataGenerator().flow_from_directory(\n",
    "        train_folder, \n",
    "        target_size=(64, 64), batch_size = train_batch_size)"
   ]
  },
  {
   "cell_type": "code",
   "execution_count": 73,
   "metadata": {},
   "outputs": [],
   "source": [
    "# create the data sets\n",
    "train_images, train_labels = next(train_generator)\n",
    "test_images, test_labels = next(test_generator)\n",
    "#val_images, val_labels = next(val_generator)"
   ]
  },
  {
   "cell_type": "code",
   "execution_count": 74,
   "metadata": {},
   "outputs": [
    {
     "name": "stdout",
     "output_type": "stream",
     "text": [
      "Number of training samples: 14034\n",
      "Number of testing samples: 3000\n",
      "train_images shape: (14034, 64, 64, 3)\n",
      "train_labels shape: (14034, 6)\n",
      "test_images shape: (3000, 64, 64, 3)\n",
      "test_labels shape: (3000, 6)\n"
     ]
    }
   ],
   "source": [
    "# Explore your dataset again\n",
    "m_train = train_images.shape[0]\n",
    "num_px = train_images.shape[1]\n",
    "m_test = test_images.shape[0]\n",
    "#m_val = val_images.shape[0]\n",
    "\n",
    "print (\"Number of training samples: \" + str(m_train))\n",
    "print (\"Number of testing samples: \" + str(m_test))\n",
    "#print (\"Number of validation samples: \" + str(m_val))\n",
    "print (\"train_images shape: \" + str(train_images.shape))\n",
    "print (\"train_labels shape: \" + str(train_labels.shape))\n",
    "print (\"test_images shape: \" + str(test_images.shape))\n",
    "print (\"test_labels shape: \" + str(test_labels.shape))\n",
    "#print (\"val_images shape: \" + str(val_images.shape))\n",
    "#print (\"val_labels shape: \" + str(val_labels.shape))"
   ]
  },
  {
   "cell_type": "code",
   "execution_count": 75,
   "metadata": {},
   "outputs": [
    {
     "name": "stdout",
     "output_type": "stream",
     "text": [
      "(14034, 12288)\n",
      "(3000, 12288)\n"
     ]
    }
   ],
   "source": [
    "train_img = train_images.reshape(train_images.shape[0], -1)\n",
    "test_img = test_images.reshape(test_images.shape[0], -1)\n",
    "#val_img = val_images.reshape(val_images.shape[0], -1)\n",
    "\n",
    "print(train_img.shape)\n",
    "print(test_img.shape)\n",
    "#print(val_img.shape)"
   ]
  },
  {
   "cell_type": "code",
   "execution_count": 76,
   "metadata": {},
   "outputs": [],
   "source": [
    "train_y = np.reshape(train_labels[:,0], (train_batch_size,1))\n",
    "test_y = np.reshape(test_labels[:,0], (test_batch_size,1))\n",
    "#val_y = np.reshape(val_labels[:,0], (200,1))"
   ]
  },
  {
   "cell_type": "markdown",
   "metadata": {},
   "source": [
    "# Baseline Neural Network"
   ]
  },
  {
   "cell_type": "code",
   "execution_count": 77,
   "metadata": {},
   "outputs": [],
   "source": [
    "# Build a baseline fully connected model\n",
    "from keras import models\n",
    "from keras import layers\n",
    "np.random.seed(123)\n",
    "model = models.Sequential()\n",
    "model.add(layers.Dense(20, activation='relu', input_shape=(12288,))) # 2 hidden layers\n",
    "model.add(layers.Dense(7, activation='relu'))\n",
    "model.add(layers.Dense(5, activation='relu'))\n",
    "model.add(layers.Dense(1, activation='sigmoid'))"
   ]
  },
  {
   "cell_type": "code",
   "execution_count": 81,
   "metadata": {},
   "outputs": [
    {
     "name": "stdout",
     "output_type": "stream",
     "text": [
      "Epoch 1/5\n",
      "439/439 [==============================] - 3s 6ms/step - loss: 0.4332 - accuracy: 0.8439 - val_loss: 0.4156 - val_accuracy: 0.8543\n",
      "Epoch 2/5\n",
      "439/439 [==============================] - 3s 6ms/step - loss: 0.4332 - accuracy: 0.8439 - val_loss: 0.4156 - val_accuracy: 0.8543\n",
      "Epoch 3/5\n",
      "439/439 [==============================] - 3s 6ms/step - loss: 0.4332 - accuracy: 0.8439 - val_loss: 0.4156 - val_accuracy: 0.8543\n",
      "Epoch 4/5\n",
      "439/439 [==============================] - 3s 7ms/step - loss: 0.4332 - accuracy: 0.8439 - val_loss: 0.4155 - val_accuracy: 0.8543\n",
      "Epoch 5/5\n",
      "439/439 [==============================] - 3s 7ms/step - loss: 0.4332 - accuracy: 0.8439 - val_loss: 0.4155 - val_accuracy: 0.8543\n"
     ]
    }
   ],
   "source": [
    "model.compile(optimizer='sgd',\n",
    "              loss='binary_crossentropy',\n",
    "              metrics=['accuracy'])\n",
    "\n",
    "histoire = model.fit(train_img,\n",
    "                    train_y,\n",
    "                    epochs=5,\n",
    "                    batch_size=32,\n",
    "                    validation_data=(test_img, test_y)\n",
    "                                    )"
   ]
  },
  {
   "cell_type": "markdown",
   "metadata": {},
   "source": [
    "# Convolutional Neural Network"
   ]
  },
  {
   "cell_type": "code",
   "execution_count": 82,
   "metadata": {},
   "outputs": [],
   "source": [
    "model = models.Sequential()\n",
    "model.add(layers.Conv2D(32, (3, 3), activation='relu',\n",
    "                        input_shape=(64 ,64,  3)))\n",
    "model.add(layers.MaxPooling2D((2, 2)))\n",
    "\n",
    "model.add(layers.Conv2D(32, (4, 4), activation='relu'))\n",
    "model.add(layers.MaxPooling2D((2, 2)))\n",
    "\n",
    "model.add(layers.Conv2D(64, (3, 3), activation='relu'))\n",
    "model.add(layers.MaxPooling2D((2, 2)))\n",
    "\n",
    "model.add(layers.Flatten())\n",
    "model.add(layers.Dense(64, activation='relu'))\n",
    "model.add(layers.Dense(1, activation='sigmoid'))\n",
    "\n",
    "model.compile(loss='binary_crossentropy',\n",
    "              optimizer=\"sgd\",\n",
    "              metrics=['acc'])"
   ]
  },
  {
   "cell_type": "code",
   "execution_count": 83,
   "metadata": {},
   "outputs": [
    {
     "name": "stdout",
     "output_type": "stream",
     "text": [
      "Epoch 1/10\n",
      "439/439 [==============================] - 119s 271ms/step - loss: nan - acc: 0.8380 - val_loss: nan - val_acc: 0.8543\n",
      "Epoch 2/10\n",
      "439/439 [==============================] - 121s 276ms/step - loss: nan - acc: 0.8439 - val_loss: nan - val_acc: 0.8543\n",
      "Epoch 3/10\n",
      "439/439 [==============================] - 126s 287ms/step - loss: nan - acc: 0.8439 - val_loss: nan - val_acc: 0.8543\n",
      "Epoch 4/10\n",
      "439/439 [==============================] - 132s 301ms/step - loss: nan - acc: 0.8439 - val_loss: nan - val_acc: 0.8543\n",
      "Epoch 5/10\n",
      "439/439 [==============================] - 132s 300ms/step - loss: nan - acc: 0.8439 - val_loss: nan - val_acc: 0.8543\n",
      "Epoch 6/10\n",
      "439/439 [==============================] - 136s 310ms/step - loss: nan - acc: 0.8439 - val_loss: nan - val_acc: 0.8543\n",
      "Epoch 7/10\n",
      "439/439 [==============================] - 136s 309ms/step - loss: nan - acc: 0.8439 - val_loss: nan - val_acc: 0.8543\n",
      "Epoch 8/10\n",
      "439/439 [==============================] - 234s 533ms/step - loss: nan - acc: 0.8439 - val_loss: nan - val_acc: 0.8543\n",
      "Epoch 9/10\n",
      "439/439 [==============================] - 296s 675ms/step - loss: nan - acc: 0.8439 - val_loss: nan - val_acc: 0.8543\n",
      "Epoch 10/10\n",
      "439/439 [==============================] - 265s 603ms/step - loss: nan - acc: 0.8439 - val_loss: nan - val_acc: 0.8543\n"
     ]
    }
   ],
   "source": [
    "history = model.fit(train_images,\n",
    "                    train_y,\n",
    "                    epochs=10,\n",
    "                    batch_size=32,\n",
    "                    validation_data=(test_images, test_y))"
   ]
  },
  {
   "cell_type": "code",
   "execution_count": null,
   "metadata": {},
   "outputs": [],
   "source": []
  }
 ],
 "metadata": {
  "kernelspec": {
   "display_name": "Python 3",
   "language": "python",
   "name": "python3"
  },
  "language_info": {
   "codemirror_mode": {
    "name": "ipython",
    "version": 3
   },
   "file_extension": ".py",
   "mimetype": "text/x-python",
   "name": "python",
   "nbconvert_exporter": "python",
   "pygments_lexer": "ipython3",
   "version": "3.7.6"
  }
 },
 "nbformat": 4,
 "nbformat_minor": 4
}
